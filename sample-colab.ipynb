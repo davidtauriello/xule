{
 "cells": [
  {
   "cell_type": "markdown",
   "metadata": {},
   "source": [
    "## Running XULE in Arelle  \n",
    "This interactive environment copies the [free, open-source XULE plugin](https://github.com/xbrlus/xule/) to a working Python environment with [Arelle 2.4.2](https://pypi.org/project/arelle-release/#history) ([plus dependencies](https://raw.githubusercontent.com/xbrlus/xule/jupyter/environment.yml)). Click the code cell below (gray background) to bring it in focus, then click the run button above to add and confirm XULE is ready. **The asterisk to the left of the cell indicates the cell is queued/processing**.\n",
    "\n",
    "The commented _sys.executable_ commands in the cell can be used to modify the installed version of Arelle. Remove the \"#\" at the head of one of the lines and re-run the cell. Remove the # from the corresponding Arelle command below to get information about Arelle. "
   ]
  },
  {
   "cell_type": "code",
   "execution_count": null,
   "metadata": {},
   "outputs": [],
   "source": [
    "import os, sys, site, platform\n",
    "print('Please wait while Arelle and some helper packages are installed. An activation message appears below when the environment is ready.')\n",
    "\n",
    "# Arelle and aniso are required to use XULE and subversion is used to copy XULE from GitHub.\n",
    "%pip -q install Arelle-release==2.4.2\n",
    "%pip -q install aniso8601==9.0.1\n",
    "!apt -q install subversion\n",
    "\n",
    "# The two commands below can be used to change the version of Arelle (comment the Arelle release above and uncomment one below)\n",
    "#!{sys.executable} -m pip -q install arelle-release==2.2.0 # Arelle version used by this Jupyter notebook\n",
    "#!{sys.executable} -m pip -q install git+https://git@github.com/Arelle/arelle.git@master # Arelle development release\n",
    "\n",
    "# 1) locate Arelle's plugin directory (do not modify this location)\n",
    "plugindir = site.getsitepackages()[0] + '/arelle/plugin/'\n",
    "os.chdir(plugindir)\n",
    "print('\\n\\nIn this Python ' + platform.python_version() + ' environment, Arelle\\'s plugin directory is: \\n' + plugindir + '\\n\\n')\n",
    "\n",
    "# 2) copy [a XULE release from GitHub](https://github.com/xbrlus/xule/releases) to plugin directory\n",
    "!svn export --force --quiet 'https://github.com/xbrlus/xule/tags/23469/plugin/xule' xule\n",
    "\n",
    "# 3) confirm XULE (change -v to -h and re-run to see help contents for Arelle and XULE)\n",
    "!arelleCmdLine --plugins 'xule' -v\n",
    "# Uncomment the line below to get about information for Arelle.\n",
    "#!arelleCmdLine -a"
   ]
  },
  {
   "cell_type": "markdown",
   "metadata": {},
   "source": [
    "### 1. Define a XULE Expression\n",
    "The cell below is the contents of a XULE 'file' called sample.xule **which starts on the line below %%writefile** - *a Jupyter-specific command* that saves the cell's contents as a file when the cell is run.\n",
    "\n",
    "Click the code cell below then **use 'Run All Below' from Jupyter's Cell menu** to save and run XULE with a single click (NB: after the cell is run once, toggling **%%writefile** to **%load** will display the contents of the sample.xule file in the cell). "
   ]
  },
  {
   "cell_type": "code",
   "execution_count": null,
   "metadata": {},
   "outputs": [],
   "source": [
    "%%writefile 'sample.xule'\n",
    "/** add constants and namespaces below **/\n",
    "\n",
    "/** modify rule below **/\n",
    "output example\n",
    "{@}"
   ]
  },
  {
   "cell_type": "markdown",
   "metadata": {},
   "source": [
    "### 2. Run XULE against an XBRL report\n",
    "The cell below compiles the sample.xule file and runs the .zip against the instance document listed in the command (NB: run the first code cell in this notebook with the -h switch instead of -v to get configuration paramters for the command). "
   ]
  },
  {
   "cell_type": "code",
   "execution_count": null,
   "metadata": {},
   "outputs": [],
   "source": [
    "!arelleCmdLine -f \"https://www.sec.gov/Archives/edgar/data/1753673/000121390022027184/f20f2021_scienjoyhold.htm\" --plugins \"xule | transforms/SEC\" --xule-compile \"sample.xule\" --xule-run --xule-rule-set \"sample.zip\" --httpUserAgent \"XULE-Arelle (xbrl.us; support@xbrl.us)\" --logFormat=\"[%(messageCode)s] %(message)s\""
   ]
  },
  {
   "cell_type": "markdown",
   "metadata": {},
   "source": [
    "\n",
    "Any **[example]** details listed above were found in the report ('example' is the default name of the output in the sample.xule file above).  Modify and re-run the _1. Define_ and _2. Run_ cells, or change and re-run the report in the _2. Run_ cell to get different results.\n",
    "\n"
   ]
  }
 ],
 "metadata": {
  "kernelspec": {
   "display_name": "Python 3",
   "language": "python",
   "name": "python3"
  },
  "language_info": {
   "codemirror_mode": {
    "name": "ipython"
   },
   "file_extension": ".py",
   "mimetype": "text/x-python",
   "name": "python",
   "nbconvert_exporter": "python",
   "version": ""
  },
  "vscode": {
   "interpreter": {}
  }
 },
 "nbformat": 4,
 "nbformat_minor": 5
}
