{
 "cells": [
  {
   "cell_type": "markdown",
   "id": "d3986a04",
   "metadata": {},
   "source": [
    "## Running XULE in Arelle  \n",
    "This sample Python code copies the XULE plugin to a working environment with Arelle 2.1.4 ([plus dependencies](https://raw.githubusercontent.com/xbrlus/xule/main/environment.yml)) and runs an expression for a report. Click in each code cell to bring it in focus, then click the run button above to execute the commands in the cell. \n",
    "\n",
    "The commented _sys.executable_ commands in the cell below can be used to change the installed version of Arelle in about a minute: remove the \"#\" at the head of one of the lines and re-run the cell. **The asterisk to the left of the cell indicates the cell is queued/processing**. When the code finishes, the cell will display the path where XULE will be copied."
   ]
  },
  {
   "cell_type": "code",
   "execution_count": null,
   "id": "916bd6da",
   "metadata": {},
   "outputs": [],
   "source": [
    "import os, sys\n",
    "import site; site.getsitepackages()\n",
    "#!{sys.executable} -m pip -q install arelle-release==2.1.4 # this is the installed Arelle version\n",
    "#!{sys.executable} -m pip -q install git+https://git@github.com/Arelle/arelle.git@master # this is the Arelle development release on GitHub\n",
    "\n",
    "plugindir = site.getsitepackages()[0] + '/arelle/plugin/'\n",
    "os.chdir(plugindir)\n",
    "print('\\nBelow is the path to Arelle\\'s plugin directory, where the XULE plugin will be added in the next step:\\n')\n",
    "print(plugindir)\n",
    "#print('\\nAbout Arelle:') # remove the \"#\" at the beginning of this line AND the one below to get information about Arelle\n",
    "#!arelleCmdLine -a"
   ]
  },
  {
   "cell_type": "markdown",
   "id": "38fd62bd",
   "metadata": {},
   "source": [
    "\n",
    "The cell below copies the XULE files into the Arelle's plugin directory. __The red background confirms the process__, it does not indicate an error in this step. "
   ]
  },
  {
   "cell_type": "code",
   "execution_count": null,
   "id": "13f397a6",
   "metadata": {},
   "outputs": [],
   "source": [
    "%%bash \n",
    "set -x\n",
    "svn export --force --quiet https://github.com/xbrlus/xule/trunk/plugin/xule xule"
   ]
  },
  {
   "cell_type": "markdown",
   "id": "5f82b8dd",
   "metadata": {},
   "source": [
    "\n",
    "The cell below gives information about the XULE installation, to confirm it's ready to use.  Change the version switch in this cell (-v) to -h to see help for Arelle and XULE."
   ]
  },
  {
   "cell_type": "code",
   "execution_count": null,
   "id": "2b633174",
   "metadata": {},
   "outputs": [],
   "source": [
    "!arelleCmdLine --plugins 'xule' -v"
   ]
  },
  {
   "cell_type": "markdown",
   "id": "08c472c2",
   "metadata": {},
   "source": [
    "\n",
    "The cell below is the contents of a XULE 'file' called sample.xule, and it starts with 'output' on the second line (the first line is a Jupyter-specific command for saving the file when the cell is run, so sample.xule can be compiled at the next step.\n",
    "\n",
    "NB: after the cell is run once, the command replacing **%%writefile 'sample.xule'** with **%load 'sample.xule'** will load the contents of the file in the cell. Replace **%load 'sample.xule'** with **%%writefile 'sample.xule'** to toggle back to edit mode."
   ]
  },
  {
   "cell_type": "code",
   "execution_count": null,
   "metadata": {},
   "outputs": [],
   "source": [
    "%%writefile 'sample.xule'\n",
    "output example\n",
    "[@concept.local-name = 'Assets']"
   ]
  },
  {
   "cell_type": "markdown",
   "metadata": {},
   "source": [
    "\n",
    "The cell below compiles the sample.xule file and runs the .zip against the instance document (report).  "
   ]
  },
  {
   "cell_type": "code",
   "execution_count": null,
   "metadata": {},
   "outputs": [],
   "source": [
    "!arelleCmdLine --plugins 'xule | transforms/SEC' -f 'https://www.sec.gov/Archives/edgar/data/1753673/000121390022027184/f20f2021_scienjoyhold.htm' --httpUserAgent \"XULE-Arelle (xbrl.us; support@xbrl.us)\" --xule-compile 'sample.xule' --xule-run --xule-rule-set 'sample.zip'"
   ]
  },
  {
   "cell_type": "markdown",
   "metadata": {},
   "source": [
    "\n",
    "If you got one or more lines starting with **[example]** (the name of the output in the sample.xule file above), the compiled XULE executed properly.  Modify and re-run the sample.xule cell to save the updated XULE expression, then re-run the compile and evaluate step above to get information based on the revised sample.xule file.\n",
    "\n"
   ]
  }
 ],
 "metadata": {
  "kernelspec": {
   "display_name": "Python 3.8.3 64-bit",
   "language": "python",
   "name": "python3"
  },
  "language_info": {
   "codemirror_mode": {
    "name": "ipython",
    "version": 3
   },
   "file_extension": ".py",
   "mimetype": "text/x-python",
   "name": "python",
   "nbconvert_exporter": "python",
   "pygments_lexer": "ipython3",
   "version": "3.8.10"
  },
  "vscode": {
   "interpreter": {
    "hash": "1e3d2864960cda1cc89e7405ec595e77e7ac30692c1b4230c1dcf8d9a5036813"
   }
  }
 },
 "nbformat": 4,
 "nbformat_minor": 5
}
